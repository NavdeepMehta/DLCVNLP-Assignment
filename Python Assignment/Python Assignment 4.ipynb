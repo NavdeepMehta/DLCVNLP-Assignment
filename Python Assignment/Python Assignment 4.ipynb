{
 "cells": [
  {
   "cell_type": "markdown",
   "metadata": {},
   "source": [
    "# NAVDEEP MEHTA\n",
    "## Coures = DLCVNLP 10th\n",
    "## Task = Python Assignment 4\n",
    "### E-mail = navdeepmehta884@gmail.com"
   ]
  },
  {
   "cell_type": "markdown",
   "metadata": {},
   "source": [
    "####  Q1.1 Write a Python Program(with class concepts) to find the area of the triangle using the below formula.\n",
    "####      area = (s*(s-a)*(s-b)*(s-c)) ** 0.5\n",
    "#### Function to take the length of the sides of triangle from user should be defined in the parent class and function to calculate the area should be defined in subclass."
   ]
  },
  {
   "cell_type": "code",
   "execution_count": 128,
   "metadata": {},
   "outputs": [],
   "source": [
    "class value:\n",
    "    def __init__(self,a,b,c):\n",
    "        self.a=float(a)\n",
    "        self.b=float(b)\n",
    "        self.c=float(c)\n",
    "    def show(self):\n",
    "        print('value of side a',self.a)\n",
    "        print('value of side b',self.b)\n",
    "        print('value of side c',self.c)\n",
    "class traingle(value):\n",
    "    def __init__(self,a,b,c):\n",
    "        super().__init__(a,b,c)\n",
    "    def area(self):\n",
    "        s=(self.a+self.b+self.c)/2\n",
    "        print (f'value of s = {s}')\n",
    "        return float(s*(s-self.a)*(s-self.b)*(s-self.c))**0.5    "
   ]
  },
  {
   "cell_type": "code",
   "execution_count": 135,
   "metadata": {},
   "outputs": [
    {
     "name": "stdout",
     "output_type": "stream",
     "text": [
      "Enter value of side a = 5.4\n",
      "Enter value of side b = 5.6\n",
      "Enter value of side c = 5.8\n"
     ]
    }
   ],
   "source": [
    "a=float(input('Enter value of side a = '))\n",
    "b=float(input('Enter value of side b = '))\n",
    "c=float(input('Enter value of side c = '))\n"
   ]
  },
  {
   "cell_type": "code",
   "execution_count": 136,
   "metadata": {},
   "outputs": [],
   "source": [
    "t=traingle(a,b,c)"
   ]
  },
  {
   "cell_type": "code",
   "execution_count": 137,
   "metadata": {},
   "outputs": [
    {
     "name": "stdout",
     "output_type": "stream",
     "text": [
      "value of side a 5.4\n",
      "value of side b 5.6\n",
      "value of side c 5.8\n"
     ]
    }
   ],
   "source": [
    "t.show()"
   ]
  },
  {
   "cell_type": "code",
   "execution_count": 138,
   "metadata": {},
   "outputs": [
    {
     "name": "stdout",
     "output_type": "stream",
     "text": [
      "value of s = 8.4\n",
      "Area of traingle is = 13.544593017141569\n"
     ]
    }
   ],
   "source": [
    "print(f'Area of traingle is = {t.area()}')"
   ]
  },
  {
   "cell_type": "markdown",
   "metadata": {},
   "source": [
    "#### Q1.2 Write a function filter_long_words() that takes a list of words and an integer n and returns the list of words that are longer    than n."
   ]
  },
  {
   "cell_type": "code",
   "execution_count": 164,
   "metadata": {},
   "outputs": [],
   "source": [
    "def filter_long_words(a,n):\n",
    "    lst=[]\n",
    "    m=0\n",
    "    for i in range (len(a)):\n",
    "        y=len(a[i])\n",
    "        if y>n:\n",
    "            lst.append(a[i])\n",
    "        else:\n",
    "            pass\n",
    "            \n",
    "    return (f'The word whose length grater than {n} is = {lst}')"
   ]
  },
  {
   "cell_type": "code",
   "execution_count": 165,
   "metadata": {},
   "outputs": [],
   "source": [
    "k = filter_long_words"
   ]
  },
  {
   "cell_type": "code",
   "execution_count": 166,
   "metadata": {},
   "outputs": [],
   "source": [
    "l = ['Navdeep','Mehta','Sudhanhu','Kumar','Krish','Naik','iNeuron','Deep','Learning']\n",
    "m=5"
   ]
  },
  {
   "cell_type": "code",
   "execution_count": 167,
   "metadata": {},
   "outputs": [
    {
     "data": {
      "text/plain": [
       "\"The word whose length grater than 5 is = ['Navdeep', 'Sudhanhu', 'iNeuron', 'Learning']\""
      ]
     },
     "execution_count": 167,
     "metadata": {},
     "output_type": "execute_result"
    }
   ],
   "source": [
    "k(l,m)"
   ]
  },
  {
   "cell_type": "markdown",
   "metadata": {},
   "source": [
    "#### Q 2.1 Write a Python program using function concept that maps list of words into a list of integers representing the lengths of the corresponding words.\n",
    "#### Hint:If a list [ ab,cde,erty] is passed on to the python function output should come as [2,3,4]\n",
    "#### Here 2,3 and 4 are the lengths of the words in the list."
   ]
  },
  {
   "cell_type": "code",
   "execution_count": 174,
   "metadata": {},
   "outputs": [],
   "source": [
    "def length(a):\n",
    "    n=0\n",
    "    lst = []\n",
    "    for i in a:\n",
    "        n=len(i)\n",
    "        lst.append(n)\n",
    "    return lst    \n",
    "        "
   ]
  },
  {
   "cell_type": "code",
   "execution_count": 175,
   "metadata": {},
   "outputs": [],
   "source": [
    "l = ['Navdeep','Mehta','Sudhanhu','Kumar','Krish','Naik','iNeuron','Deep','Learning']"
   ]
  },
  {
   "cell_type": "code",
   "execution_count": 176,
   "metadata": {},
   "outputs": [
    {
     "data": {
      "text/plain": [
       "[7, 5, 8, 5, 5, 4, 7, 4, 8]"
      ]
     },
     "execution_count": 176,
     "metadata": {},
     "output_type": "execute_result"
    }
   ],
   "source": [
    "length(l)"
   ]
  },
  {
   "cell_type": "code",
   "execution_count": 184,
   "metadata": {},
   "outputs": [],
   "source": [
    "def length1(a):\n",
    "    n=0\n",
    "    lst = []\n",
    "    for i in a:\n",
    "        n=len(i)\n",
    "        lst.append(n)\n",
    "    for i in range(len(lst)) :\n",
    "        print(f'{a[i]} : {lst[i]}')"
   ]
  },
  {
   "cell_type": "code",
   "execution_count": 185,
   "metadata": {},
   "outputs": [
    {
     "name": "stdout",
     "output_type": "stream",
     "text": [
      "Navdeep : 7\n",
      "Mehta : 5\n",
      "Sudhanhu : 8\n",
      "Kumar : 5\n",
      "Krish : 5\n",
      "Naik : 4\n",
      "iNeuron : 7\n",
      "Deep : 4\n",
      "Learning : 8\n"
     ]
    }
   ],
   "source": [
    "length1(l)"
   ]
  },
  {
   "cell_type": "markdown",
   "metadata": {},
   "source": [
    "#### Q 2.2 Write a Python function which takes a character (i.e. a string of length 1) and returns True if it is a vowel, False otherwise."
   ]
  },
  {
   "cell_type": "code",
   "execution_count": 250,
   "metadata": {},
   "outputs": [],
   "source": [
    "def check_vowel(a):\n",
    "    if a[0].upper() == 'A' or a[0].upper() == 'E' or a[0].upper() == 'I' or a[0].upper() == 'O' or a[0].upper() == 'U':\n",
    "        return True\n",
    "    else :\n",
    "        return False"
   ]
  },
  {
   "cell_type": "code",
   "execution_count": 264,
   "metadata": {},
   "outputs": [
    {
     "name": "stdout",
     "output_type": "stream",
     "text": [
      "Enter the  first letter string = art\n"
     ]
    },
    {
     "data": {
      "text/plain": [
       "True"
      ]
     },
     "execution_count": 264,
     "metadata": {},
     "output_type": "execute_result"
    }
   ],
   "source": [
    "n=str(input(\"Enter the  first letter string = \"))\n",
    "check_vowel(n)"
   ]
  },
  {
   "cell_type": "code",
   "execution_count": 263,
   "metadata": {},
   "outputs": [
    {
     "name": "stdout",
     "output_type": "stream",
     "text": [
      "Enter the  first letter string = ART\n"
     ]
    },
    {
     "data": {
      "text/plain": [
       "True"
      ]
     },
     "execution_count": 263,
     "metadata": {},
     "output_type": "execute_result"
    }
   ],
   "source": [
    "n=str(input(\"Enter the  first letter string = \"))\n",
    "check_vowel(n)"
   ]
  },
  {
   "cell_type": "code",
   "execution_count": 265,
   "metadata": {},
   "outputs": [
    {
     "name": "stdout",
     "output_type": "stream",
     "text": [
      "Enter the  first letter string = rat\n"
     ]
    },
    {
     "data": {
      "text/plain": [
       "False"
      ]
     },
     "execution_count": 265,
     "metadata": {},
     "output_type": "execute_result"
    }
   ],
   "source": [
    "n=str(input(\"Enter the  first letter string = \"))\n",
    "check_vowel(n)"
   ]
  }
 ],
 "metadata": {
  "kernelspec": {
   "display_name": "Python 3",
   "language": "python",
   "name": "python3"
  },
  "language_info": {
   "codemirror_mode": {
    "name": "ipython",
    "version": 3
   },
   "file_extension": ".py",
   "mimetype": "text/x-python",
   "name": "python",
   "nbconvert_exporter": "python",
   "pygments_lexer": "ipython3",
   "version": "3.8.5"
  }
 },
 "nbformat": 4,
 "nbformat_minor": 4
}
