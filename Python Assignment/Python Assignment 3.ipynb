{
 "cells": [
  {
   "cell_type": "markdown",
   "metadata": {},
   "source": [
    "# NAVDEEP MEHTA\n",
    "## Coures = DLCVNLP 10th\n",
    "## Task = Python Assignment 3\n",
    "### E-mail = navdeepmehta884@gmail.com"
   ]
  },
  {
   "cell_type": "markdown",
   "metadata": {},
   "source": [
    "## Q 1.1 Write a Python Program to implement your own myreduce() function which works exactly like Python's built-in function reduce()."
   ]
  },
  {
   "cell_type": "code",
   "execution_count": 108,
   "metadata": {},
   "outputs": [],
   "source": [
    "def own_reduce(a):\n",
    "    total=0\n",
    "    for i in a:\n",
    "        total = total+i\n",
    "    print(f'Sum of elements in list is = {total}')  \n",
    "    return None"
   ]
  },
  {
   "cell_type": "code",
   "execution_count": 109,
   "metadata": {},
   "outputs": [
    {
     "name": "stdout",
     "output_type": "stream",
     "text": [
      "How many number upto sum u want = 40\n",
      "increment value = 3\n",
      "Your list is []\n",
      "\n",
      "Your list is [1, 4, 7, 10, 13, 16, 19, 22, 25, 28, 31, 34, 37, 40]\n",
      "\n",
      "Sum of elements in list is = 287\n"
     ]
    }
   ],
   "source": [
    "a=[]\n",
    "n=int(input(\"How many number upto sum u want = \"))\n",
    "m=int(input(\"increment value = \"))\n",
    "print(f'Your list is {a}\\n')\n",
    "for i in range (1,n+1,m):\n",
    "    a.append(i)\n",
    "print(f'Your list is {a}\\n')\n",
    "own_reduce(a)"
   ]
  },
  {
   "cell_type": "markdown",
   "metadata": {},
   "source": [
    "## Q 1.2 Write a Python program to implement your own myfilter() function which works exactly like Python's built-in function filter()"
   ]
  },
  {
   "cell_type": "code",
   "execution_count": 106,
   "metadata": {},
   "outputs": [],
   "source": [
    "def own_filter(a,b):\n",
    "    lst_divisible=[]\n",
    "    lst_Non_Divisible =[]\n",
    "    for i in a:\n",
    "        if i%b==0:\n",
    "            lst_divisible.append(i)\n",
    "        else :\n",
    "            lst_Non_Divisible.append(i)\n",
    "    print(f'Elements Divisible by {b} = {lst_divisible}\\n') \n",
    "    print(f'Elements Not Divisible by {b} = {lst_Non_Divisible}')  \n",
    "    return None"
   ]
  },
  {
   "cell_type": "code",
   "execution_count": 107,
   "metadata": {},
   "outputs": [
    {
     "name": "stdout",
     "output_type": "stream",
     "text": [
      "Enter last number = 20\n",
      "Number u want to get their mutiple = 4\n",
      "Your list is [1, 2, 3, 4, 5, 6, 7, 8, 9, 10, 11, 12, 13, 14, 15, 16, 17, 18, 19, 20]\n",
      "\n",
      "Elements Divisible by 4 = [4, 8, 12, 16, 20]\n",
      "\n",
      "Elements Not Divisible by 4 = [1, 2, 3, 5, 6, 7, 9, 10, 11, 13, 14, 15, 17, 18, 19]\n"
     ]
    }
   ],
   "source": [
    "a=[]\n",
    "n=int(input(\"Enter last number = \"))\n",
    "m=int(input(\"Number u want to get their mutiple = \"))\n",
    "for i in range (1,n+1):\n",
    "    a.append(i)\n",
    "print(f'Your list is {a}\\n')\n",
    "own_filter(a,m)"
   ]
  },
  {
   "cell_type": "markdown",
   "metadata": {},
   "source": [
    "## 2. Implement List comprehensions to produce the following lists.\n",
    "## Write List comprehensions to produce the following Lists"
   ]
  },
  {
   "cell_type": "markdown",
   "metadata": {},
   "source": [
    "####  ['x', 'xx', 'xxx', 'xxxx', 'y', 'yy', 'yyy', 'yyyy', 'z', 'zz', 'zzz', 'zzzz']\n",
    "####  ['x', 'y', 'z', 'xx', 'yy', 'zz', 'xxx', 'yyy', 'zzz', 'xxxx', 'yyyy', 'zzzz']\n",
    "####  [[2], [3], [4], [3], [4], [5], [4], [5], [6]] [[2, 3, 4, 5], [3, 4, 5, 6],\n",
    "####  [4, 5, 6, 7], [5, 6, 7, 8]]\n",
    "####  [(1, 1), (2, 1), (3, 1), (1, 2), (2, 2), (3, 2), (1, 3), (2, 3), (3, 3)]"
   ]
  },
  {
   "cell_type": "code",
   "execution_count": 1,
   "metadata": {},
   "outputs": [
    {
     "name": "stdout",
     "output_type": "stream",
     "text": [
      "['x', 'xx', 'xxx', 'xxxx', 'y', 'yy', 'yyy', 'yyyy', 'z', 'zz', 'zzz', 'zzzz']\n",
      "['x', 'y', 'z', 'xx', 'yy', 'zz', 'xxx', 'yyy', 'zzz', 'xxxx', 'yyyy', 'zzzz']\n",
      "[[2], [3], [4], [3], [4], [5], [4], [5], [6]]\n",
      "[[2, 3, 4, 5], [3, 4, 5, 6], [4, 5, 6, 7], [5, 6, 7, 8]]\n",
      "[(1, 1), (2, 1), (3, 1), (1, 2), (2, 2), (3, 2), (1, 3), (2, 3), (3, 3)]\n"
     ]
    }
   ],
   "source": [
    "#Section 1\n",
    "word_1=list('xyz')\n",
    "word_2=[x*n for x in word_1 for n in range(1,5) ]\n",
    "print(word_2)\n",
    "\n",
    "#Section 2\n",
    "word_3=[x*n for n in range(1,5) for x in word_1 ]\n",
    "print(word_3)\n",
    "\n",
    "#Section 3\n",
    "number=[2,3,4]\n",
    "number_1=[[x+n] for x in number for n in range(0,3)]\n",
    "print(number_1)\n",
    "\n",
    "#Section 4\n",
    "number_2=[2,3,4,5]\n",
    "number_3=[[x+n for n in range(0,4)] for x in number_2 ]\n",
    "print(number_3)\n",
    "\n",
    "#Section 5\n",
    "number_4=[1,2,3]\n",
    "number_5= [(b,a) for a in number_4 for b in number_4]\n",
    "print(number_5)"
   ]
  },
  {
   "cell_type": "markdown",
   "metadata": {},
   "source": [
    "### Q2.2 ['x', 'y', 'z', 'xx', 'yy', 'zz', 'xxx', 'yyy', 'zzz', 'xxxx', 'yyyy', 'zzzz']\n"
   ]
  },
  {
   "cell_type": "code",
   "execution_count": 66,
   "metadata": {},
   "outputs": [
    {
     "name": "stdout",
     "output_type": "stream",
     "text": [
      "How many elements in a list= 3\n",
      "Enter 1 elements of list= X\n",
      "Enter 2 elements of list= Y\n",
      "Enter 3 elements of list= Z\n",
      "Your list is ['X', 'Y', 'Z']\n",
      "\n",
      "Final list is ['X', 'XX', 'XXX', 'XXXX', 'Y', 'YY', 'YYY', 'YYYY', 'Z', 'ZZ', 'ZZZ', 'ZZZZ']\n"
     ]
    }
   ],
   "source": [
    "lst=[]\n",
    "n=int(input(\"How many elements in a list= \"))\n",
    "for i in range (n):\n",
    "    n1=str(input(f'Enter {i+1} elements of list= '))\n",
    "    lst.append(n1)\n",
    "print(f'Your list is {lst}\\n')\n",
    "lst2=[]\n",
    "for i in range (len(lst)):\n",
    "    for j in range (1,len(lst)+2):\n",
    "        w=lst[i]*j\n",
    "        lst2.append(w)\n",
    "lst2.sort() \n",
    "print(f'Final list is {lst2}' )"
   ]
  },
  {
   "cell_type": "markdown",
   "metadata": {},
   "source": [
    "### Q2.3 [[2], [3], [4], [3], [4], [5], [4], [5], [6]]"
   ]
  },
  {
   "cell_type": "code",
   "execution_count": 110,
   "metadata": {},
   "outputs": [
    {
     "name": "stdout",
     "output_type": "stream",
     "text": [
      "How many elements in a list3\n",
      "Enter 1 elements of list2\n",
      "Enter 2 elements of list3\n",
      "Enter 3 elements of list4\n",
      "Your list is [2, 3, 4]\n",
      "\n",
      "Final list is [[2], [3], [4], [3], [4], [5], [4], [5], [6]]\n"
     ]
    }
   ],
   "source": [
    "num=[]\n",
    "n=int(input(\"How many elements in a list\"))\n",
    "for i in range (n):\n",
    "    n1=int(input(f'Enter {i+1} elements of list'))\n",
    "    num.append(n1)\n",
    "print(f'Your list is {num}\\n')\n",
    "num1=[]\n",
    "for i in (num):\n",
    "    num1.append([i])\n",
    "    for  j in range(1,n):\n",
    "        num1.append([i+j])  \n",
    "print(f'Final list is {num1}' )"
   ]
  },
  {
   "cell_type": "markdown",
   "metadata": {},
   "source": [
    "### Q 2.4 [[2, 3, 4, 5], [3, 4, 5, 6],[4, 5, 6, 7], [5, 6, 7, 8]]"
   ]
  },
  {
   "cell_type": "code",
   "execution_count": 68,
   "metadata": {},
   "outputs": [
    {
     "name": "stdout",
     "output_type": "stream",
     "text": [
      "How many elements in a list4\n",
      "Enter 1 elements of list2\n",
      "Enter 2 elements of list3\n",
      "Enter 3 elements of list4\n",
      "Enter 4 elements of list5\n",
      "Your list is [2, 3, 4, 5]\n",
      "\n",
      "Final list is [[2, 3, 4, 5], [3, 4, 5, 6], [4, 5, 6, 7], [5, 6, 7, 8]]\n"
     ]
    }
   ],
   "source": [
    "num=[]\n",
    "n=int(input(\"How many elements in a list\"))\n",
    "for i in range (n):\n",
    "    n1=int(input(f'Enter {i+1} elements of list'))\n",
    "    num.append(n1)\n",
    "print(f'Your list is {num}\\n')\n",
    "num1=[]\n",
    "for i in range(n):\n",
    "    num1.append([])  \n",
    "k=0\n",
    "for j in (num):\n",
    "    if k<n:\n",
    "        num1[k].append(j)\n",
    "        for i in range (1,n):\n",
    "            l=i+j\n",
    "            num1[k].append(l)\n",
    "        k=k+1    \n",
    "print(f'Final list is {num1}')"
   ]
  },
  {
   "cell_type": "markdown",
   "metadata": {},
   "source": [
    "### Q 2.5 [(1, 1), (2, 1), (3, 1), (1, 2), (2, 2), (3, 2), (1, 3), (2, 3), (3, 3)]"
   ]
  },
  {
   "cell_type": "code",
   "execution_count": 86,
   "metadata": {},
   "outputs": [
    {
     "name": "stdout",
     "output_type": "stream",
     "text": [
      "How many elements in a list3\n",
      "Enter 1 elements of list1\n",
      "Enter 2 elements of list2\n",
      "Enter 3 elements of list3\n",
      "Your list is [1, 2, 3]\n",
      "\n",
      "Final list is [(1, 1), (1, 2), (1, 3), (2, 1), (2, 2), (2, 3), (3, 1), (3, 2), (3, 3)]\n"
     ]
    }
   ],
   "source": [
    "a=[]\n",
    "n=int(input(\"How many elements in a list\"))\n",
    "for i in range (n):\n",
    "    n1=int(input(f'Enter {i+1} elements of list'))\n",
    "    a.append(n1)\n",
    "print(f'Your list is {a}\\n')\n",
    "n=len(a)*len(a)\n",
    "b=[]\n",
    "for i in range(0,n):\n",
    "    b.append(())\n",
    "k=0    \n",
    "for i in a:\n",
    "    for j in a:\n",
    "        b[k]=i,j\n",
    "        k=k+1\n",
    "print(f'Final list is {b}')        "
   ]
  }
 ],
 "metadata": {
  "kernelspec": {
   "display_name": "Python 3",
   "language": "python",
   "name": "python3"
  },
  "language_info": {
   "codemirror_mode": {
    "name": "ipython",
    "version": 3
   },
   "file_extension": ".py",
   "mimetype": "text/x-python",
   "name": "python",
   "nbconvert_exporter": "python",
   "pygments_lexer": "ipython3",
   "version": "3.8.5"
  }
 },
 "nbformat": 4,
 "nbformat_minor": 4
}
